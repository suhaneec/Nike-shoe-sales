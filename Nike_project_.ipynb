{
  "nbformat": 4,
  "nbformat_minor": 0,
  "metadata": {
    "colab": {
      "provenance": []
    },
    "kernelspec": {
      "name": "python3",
      "display_name": "Python 3"
    },
    "language_info": {
      "name": "python"
    }
  },
  "cells": [
    {
      "cell_type": "code",
      "source": [
        "import pandas as pd\n",
        "\n",
        "# File paths\n",
        "input_file = \"/content/nike_shoes_sales.csv\"  # Path to the original CSV\n",
        "output_file = \"/content/nike_shoes_sales_cleaned.csv\"  # Path to save the cleaned CSV\n",
        "\n",
        "# Load the data into a DataFrame\n",
        "df = pd.read_csv(input_file)\n",
        "\n",
        "# Display the first few rows of the raw data\n",
        "print(\"Raw Data:\")\n",
        "print(df.head())\n",
        "\n",
        "# Data cleaning steps\n",
        "\n",
        "# 1. Remove rows with missing values in essential columns\n",
        "essential_columns = [\"product_name\", \"product_id\", \"listing_price\", \"sale_price\", \"images\"]\n",
        "df = df.dropna(subset=essential_columns)\n",
        "\n",
        "# 2. Ensure numeric columns are properly formatted\n",
        "# Convert listing_price and sale_price to numeric\n",
        "df[\"listing_price\"] = pd.to_numeric(df[\"listing_price\"], errors=\"coerce\")\n",
        "df[\"sale_price\"] = pd.to_numeric(df[\"sale_price\"], errors=\"coerce\")\n",
        "\n",
        "# Remove rows where prices are invalid or negative\n",
        "df = df[(df[\"listing_price\"] > 0) & (df[\"sale_price\"] > 0)]\n",
        "\n",
        "# 3. Calculate and clean the \"discount\" column if missing\n",
        "if \"discount\" in df.columns:\n",
        "    df[\"discount\"] = pd.to_numeric(df[\"discount\"], errors=\"coerce\")\n",
        "    missing_discounts = df[\"discount\"].isna()\n",
        "    df.loc[missing_discounts, \"discount\"] = round(\n",
        "        ((df[\"listing_price\"] - df[\"sale_price\"]) / df[\"listing_price\"]) * 100, 2\n",
        "    )\n",
        "\n",
        "# 4. Clean the \"rating\" column\n",
        "if \"rating\" in df.columns:\n",
        "    df[\"rating\"] = pd.to_numeric(df[\"rating\"], errors=\"coerce\")\n",
        "    avg_rating = df[\"rating\"].mean()\n",
        "    df[\"rating\"] = df[\"rating\"].fillna(round(avg_rating, 1))\n",
        "\n",
        "# 5. Clean the \"reviews\" column\n",
        "if \"reviews\" in df.columns:\n",
        "    df[\"reviews\"] = pd.to_numeric(df[\"reviews\"], errors=\"coerce\")\n",
        "    df[\"reviews\"] = df[\"reviews\"].fillna(0).astype(int)  # Replace NaNs with 0\n",
        "\n",
        "# 6. Normalize text data\n",
        "df[\"product_name\"] = df[\"product_name\"].str.strip()\n",
        "df[\"brand\"] = df[\"brand\"].str.strip() if \"brand\" in df.columns else None\n",
        "df[\"description\"] = df[\"description\"].str.strip() if \"description\" in df.columns else None\n",
        "\n",
        "# 7. Remove duplicates\n",
        "df = df.drop_duplicates()\n",
        "\n",
        "# Display the first few rows of the cleaned data\n",
        "print(\"\\nCleaned Data:\")\n",
        "print(df.head())\n",
        "\n",
        "# Save the cleaned data to a new CSV file\n",
        "df.to_csv(output_file, index=False)\n",
        "print(f\"\\nCleaned data saved to: {output_file}\")\n"
      ],
      "metadata": {
        "colab": {
          "base_uri": "https://localhost:8080/"
        },
        "id": "9e8nlbCOjJ9L",
        "outputId": "7db1e2a7-ec09-4e1a-f1a9-d9a8ca666a7f"
      },
      "execution_count": 3,
      "outputs": [
        {
          "output_type": "stream",
          "name": "stdout",
          "text": [
            "Raw Data:\n",
            "                     product_name  product_id  listing_price  sale_price  \\\n",
            "0  Nike Air Force 1 '07 Essential  CJ1646-600              0        7495   \n",
            "1            Nike Air Force 1 '07  CT4328-101              0        7495   \n",
            "2    Nike Air Force 1 Sage Low LX  CI3482-200              0        9995   \n",
            "3             Nike Air Max Dia SE  CD0479-200              0        9995   \n",
            "4             Nike Air Max Verona  CZ6156-101              0        9995   \n",
            "\n",
            "   discount brand                                        description  rating  \\\n",
            "0         0  Nike  Let your shoe game shimmer in the Nike Air For...     0.0   \n",
            "1         0  Nike  The legend lives on in the Nike Air Force 1 '0...     0.0   \n",
            "2         0  Nike  Taking both height and craft to new levels, th...     0.0   \n",
            "3         0  Nike  Designed for a woman's foot, the Nike Air Max ...     0.0   \n",
            "4         0  Nike  Pass on the good vibes in the Nike Air Max Ver...     0.0   \n",
            "\n",
            "   reviews                                             images  \n",
            "0        0  [\"https://static.nike.com/a/images/t_PDP_1728_...  \n",
            "1        0  [\"https://static.nike.com/a/images/t_PDP_1728_...  \n",
            "2        0  [\"https://static.nike.com/a/images/t_PDP_1728_...  \n",
            "3        0  [\"https://static.nike.com/a/images/t_PDP_1728_...  \n",
            "4        0  [\"https://static.nike.com/a/images/t_PDP_1728_...  \n",
            "\n",
            "Cleaned Data:\n",
            "                                  product_name  product_id  listing_price  \\\n",
            "33                    Nike Joyride Run FlyKnit  CI3707-100          15995   \n",
            "56                    Nike Air Max Tailwind 99  CQ6569-001          15995   \n",
            "69  Nike Epic Phantom React A.I.R. Cody Hudson  CI1718-001          13995   \n",
            "75                      Nike Air Max 270 React  AO4971-700          12995   \n",
            "76                           Nike React Presto  AV2605-101           9995   \n",
            "\n",
            "    sale_price  discount brand  \\\n",
            "33       11997         0  Nike   \n",
            "56       11197         0  Nike   \n",
            "69        8397         0  Nike   \n",
            "75        7797         0  Nike   \n",
            "76        5997         0  Nike   \n",
            "\n",
            "                                          description  rating  reviews  \\\n",
            "33  The Nike Joyride Run Flyknit is designed to he...     0.0        0   \n",
            "56  The Nike Air Max Tailwind 99 has a storied his...     0.0        0   \n",
            "69  Soft to the touch, the Nike Epic Phantom React...     5.0        2   \n",
            "75  The bold silhouette of Nike Air lifts the Nike...     3.9       33   \n",
            "76  Inspired by the early 2000s original, the Nike...     3.7       27   \n",
            "\n",
            "                                               images  \n",
            "33  [\"https://static.nike.com/a/images/t_PDP_1728_...  \n",
            "56  [\"https://static.nike.com/a/images/t_PDP_1728_...  \n",
            "69  [\"https://static.nike.com/a/images/t_PDP_1728_...  \n",
            "75  [\"https://static.nike.com/a/images/t_PDP_1728_...  \n",
            "76  [\"https://static.nike.com/a/images/t_PDP_1728_...  \n",
            "\n",
            "Cleaned data saved to: /content/nike_shoes_sales_cleaned.csv\n"
          ]
        }
      ]
    },
    {
      "cell_type": "code",
      "source": [
        "df.columns\n"
      ],
      "metadata": {
        "colab": {
          "base_uri": "https://localhost:8080/"
        },
        "id": "A33oblJQj7Ly",
        "outputId": "06dbdcfb-3e57-425d-aa7f-2595b9ac9482"
      },
      "execution_count": 2,
      "outputs": [
        {
          "output_type": "execute_result",
          "data": {
            "text/plain": [
              "Index(['product_name', 'product_id', 'listing_price', 'sale_price', 'discount',\n",
              "       'brand', 'description', 'rating', 'reviews', 'images'],\n",
              "      dtype='object')"
            ]
          },
          "metadata": {},
          "execution_count": 2
        }
      ]
    }
  ]
}